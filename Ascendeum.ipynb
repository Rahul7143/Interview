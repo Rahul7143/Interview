{
  "nbformat": 4,
  "nbformat_minor": 0,
  "metadata": {
    "colab": {
      "provenance": []
    },
    "kernelspec": {
      "name": "python3",
      "display_name": "Python 3"
    },
    "language_info": {
      "name": "python"
    }
  },
  "cells": [
    {
      "cell_type": "code",
      "execution_count": 1,
      "metadata": {
        "colab": {
          "base_uri": "https://localhost:8080/"
        },
        "id": "sW4LvJDQGbKH",
        "outputId": "ab6d9860-3183-4814-80ea-af6ce42d2d7b"
      },
      "outputs": [
        {
          "output_type": "stream",
          "name": "stdout",
          "text": [
            "Yes\n"
          ]
        }
      ],
      "source": [
        "print(\"Yes\")"
      ]
    },
    {
      "cell_type": "code",
      "source": [],
      "metadata": {
        "id": "jKYubONEIEZ7"
      },
      "execution_count": null,
      "outputs": []
    },
    {
      "cell_type": "code",
      "source": [
        "def dia(num_alp):\n",
        "  if num_alp<1 or num_alp>26:\n",
        "    print(\"enter number\")\n",
        "    return\n",
        "  for i in range(num_alp):\n",
        "     space= '  '*(num_alp-i-1)\n",
        "     letter = ' '.join(chr(65+j) for j in range(i+1))\n",
        "     print(space+letter+letter[-2::-1])\n",
        "\n",
        "  for i in range(num_alp-2,-1,-1):\n",
        "     space='  '*(num_alp-i-1)\n",
        "     letter=' '.join(chr(65+j) for j in range(i+1))\n",
        "     print(space+letter+letter[-2::-1])\n",
        "\n",
        "num= int(input(\"enter numbe:\"))\n",
        "dia(4)"
      ],
      "metadata": {
        "colab": {
          "base_uri": "https://localhost:8080/"
        },
        "id": "d9Kj2HhHIEcI",
        "outputId": "2baf2ee8-0bbf-4eec-c96d-560ba93aee81"
      },
      "execution_count": 46,
      "outputs": [
        {
          "output_type": "stream",
          "name": "stdout",
          "text": [
            "enter numbe:5\n",
            "      A\n",
            "    A B A\n",
            "  A B C B A\n",
            "A B C D C B A\n",
            "  A B C B A\n",
            "    A B A\n",
            "      A\n"
          ]
        }
      ]
    },
    {
      "cell_type": "code",
      "source": [
        "def dia():\n",
        "  for i in range(4):\n",
        "    print(' '*(3-i),end=' ')\n",
        "    for j in range(i+1):\n",
        "      print(chr(65+j),end=' ')\n",
        "    print()\n",
        "\n",
        "  for i in range(-2,-1,-1):\n",
        "      print(' '*(3-i),end=' ')\n",
        "      for j in range(i+1):\n",
        "         print(chr(65+j),end=' ')\n",
        "      print()\n",
        "\n",
        "dia()\n",
        "\n",
        "\n",
        "\n",
        "\n"
      ],
      "metadata": {
        "colab": {
          "base_uri": "https://localhost:8080/"
        },
        "id": "rTA5oTemPRv2",
        "outputId": "2636d2c2-766c-4f60-fceb-06a37fa92b27"
      },
      "execution_count": 106,
      "outputs": [
        {
          "output_type": "stream",
          "name": "stdout",
          "text": [
            "    A \n",
            "   A B \n",
            "  A B C \n",
            " A B C D \n"
          ]
        }
      ]
    },
    {
      "cell_type": "code",
      "source": [],
      "metadata": {
        "id": "G3QasOqzIEVp"
      },
      "execution_count": null,
      "outputs": []
    },
    {
      "cell_type": "code",
      "source": [],
      "metadata": {
        "id": "e30OpkzEGjI1"
      },
      "execution_count": null,
      "outputs": []
    },
    {
      "cell_type": "code",
      "source": [],
      "metadata": {
        "id": "squXo6XuGdaO"
      },
      "execution_count": 1,
      "outputs": []
    }
  ]
}